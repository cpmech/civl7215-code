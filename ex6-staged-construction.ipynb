{
 "cells": [
  {
   "cell_type": "code",
   "execution_count": 1,
   "metadata": {},
   "outputs": [],
   "source": [
    "import numpy as np\n",
    "import matplotlib.pyplot as plt\n",
    "import scipy.optimize as opt"
   ]
  },
  {
   "cell_type": "markdown",
   "metadata": {},
   "source": [
    "# Ex 6 - Staged construction\n",
    "\n",
    "_Dr Dorival Pedroso_"
   ]
  },
  {
   "cell_type": "markdown",
   "metadata": {},
   "source": [
    "## 1 Input data"
   ]
  },
  {
   "cell_type": "markdown",
   "metadata": {},
   "source": [
    "### 1.1 Constants"
   ]
  },
  {
   "cell_type": "markdown",
   "metadata": {},
   "source": [
    "Collect some generic constants (e.g. unit weight of water)"
   ]
  },
  {
   "cell_type": "code",
   "execution_count": 2,
   "metadata": {},
   "outputs": [],
   "source": [
    "pi           = np.pi           # [-]\n",
    "gamma_water  = 9.8             # kN/m³\n",
    "secs_per_day = 24 * 60 * 60.0  # [-]"
   ]
  },
  {
   "cell_type": "markdown",
   "metadata": {},
   "source": [
    "### 1.2 Soil foundation"
   ]
  },
  {
   "cell_type": "markdown",
   "metadata": {},
   "source": [
    "Collect data related to the soil foundation"
   ]
  },
  {
   "cell_type": "code",
   "execution_count": 3,
   "metadata": {},
   "outputs": [
    {
     "name": "stdout",
     "output_type": "stream",
     "text": [
      "coef of consolidation due to radial flow, cr = 4.5e-08 m²/s\n"
     ]
    }
   ],
   "source": [
    "H_soil      = 6.0      # m\n",
    "OCR_soil    = 1.0      # normally consolidated\n",
    "cu_soil     = 24.0     # kPa\n",
    "cv_soil     = 1.8e-8   # m²/s\n",
    "Cc_soil     = 0.8      # [-]\n",
    "Ca_soil     = 0.032    # [-]\n",
    "e0_soil     = 1.0      # [-]\n",
    "gamma_soil  = 18.1     # kN/m³\n",
    "egamma_soil = gamma_soil - gamma_water # effective unit weight\n",
    "cr_soil     = 2.5 * cv_soil\n",
    "\n",
    "print(f'coef of consolidation due to radial flow, cr = {cr_soil} m²/s')"
   ]
  },
  {
   "cell_type": "markdown",
   "metadata": {},
   "source": [
    "Estimate mv and the permeability of soil by considering two effective stresses esigA and esigB 'near' the expected stresses"
   ]
  },
  {
   "cell_type": "code",
   "execution_count": 4,
   "metadata": {},
   "outputs": [
    {
     "name": "stdout",
     "output_type": "stream",
     "text": [
      "mv_soil = 0.001204 kPa⁻¹\n",
      "kv_soil = 2.124e-10 m/s\n",
      "kr_soil = 5.31e-10 m/s\n"
     ]
    }
   ],
   "source": [
    "esigA   = 100.0  # kPa\n",
    "esigB   = 200.0  # kPa\n",
    "mv_soil = (Cc_soil / (1.0 + e0_soil)) * np.log10(esigB / esigA) / (esigB - esigA)\n",
    "kv_soil = cv_soil * mv_soil * gamma_water\n",
    "kr_soil = 2.5 * kv_soil\n",
    "\n",
    "print(f'mv_soil = {mv_soil:.6f} kPa⁻¹')\n",
    "print(f'kv_soil = {kv_soil:.4} m/s')\n",
    "print(f'kr_soil = {kr_soil:.4} m/s')"
   ]
  },
  {
   "cell_type": "markdown",
   "metadata": {},
   "source": [
    "### 1.3 Embankment / fill"
   ]
  },
  {
   "cell_type": "markdown",
   "metadata": {},
   "source": [
    "Collect data related to the fill used in the embankment"
   ]
  },
  {
   "cell_type": "code",
   "execution_count": 5,
   "metadata": {},
   "outputs": [],
   "source": [
    "H_fill     = 6.0    # m\n",
    "gamma_fill = 19.7   # kN/m³\n",
    "c_fill     = 0.0    # kPa\n",
    "phi_fill   = 30.0   # degrees"
   ]
  },
  {
   "cell_type": "markdown",
   "metadata": {},
   "source": [
    "### 1.4 Pre-fabricated vertical drains (PVDs)"
   ]
  },
  {
   "cell_type": "markdown",
   "metadata": {},
   "source": [
    "Collect data related to the pre-fabricated vertical drains"
   ]
  },
  {
   "cell_type": "code",
   "execution_count": 6,
   "metadata": {},
   "outputs": [
    {
     "name": "stdout",
     "output_type": "stream",
     "text": [
      "equivalent diameter:            dc = 0.0520 m\n",
      "equivalent influence diameter:  de = 1.06 m\n",
      "diameter ratio:                 Nd = 20.38\n"
     ]
    }
   ],
   "source": [
    "b_drain       = 100.0     # mm\n",
    "tg_drain      = 4.0       # mm\n",
    "spacing_drain = 1.0       # m  (equilateral triangular pattern)\n",
    "Qc_drain      = 0.000109  # m³/s\n",
    "\n",
    "dc_drain = (b_drain/1000.0 + tg_drain/1000.0) / 2\n",
    "de_drain = 1.06 * spacing_drain\n",
    "Nd_drain = de_drain / dc_drain\n",
    "\n",
    "print(f'equivalent diameter:            dc = {dc_drain:.4f} m')\n",
    "print(f'equivalent influence diameter:  de = {de_drain} m')\n",
    "print(f'diameter ratio:                 Nd = {Nd_drain:.2f}')"
   ]
  },
  {
   "cell_type": "markdown",
   "metadata": {},
   "source": [
    "### 1.5 Geotechnical problem"
   ]
  },
  {
   "cell_type": "markdown",
   "metadata": {},
   "source": [
    "Collect data related to the geotechnical problem and define some auxiliary coefficients. Select a construction rate."
   ]
  },
  {
   "cell_type": "code",
   "execution_count": 7,
   "metadata": {},
   "outputs": [],
   "source": [
    "FS_bearing_cap   = 1.3                  # [-]\n",
    "hdr_soil         = 6.0                  # m  (thickness of clay layer)\n",
    "z_soil           = 3.0                  # m  (middle of clay layer)\n",
    "construct_rate_w = 0.3                  # m/week\n",
    "construct_rate   = construct_rate_w/7.0 # m/day"
   ]
  },
  {
   "cell_type": "markdown",
   "metadata": {},
   "source": [
    "Define an auxiliary coefficient to calculate Tv"
   ]
  },
  {
   "cell_type": "code",
   "execution_count": 8,
   "metadata": {},
   "outputs": [],
   "source": [
    "auxTv = cv_soil / (hdr_soil**2)"
   ]
  },
  {
   "cell_type": "markdown",
   "metadata": {},
   "source": [
    "Define an auxiliary coefficient to calculate Tr"
   ]
  },
  {
   "cell_type": "code",
   "execution_count": 9,
   "metadata": {},
   "outputs": [],
   "source": [
    "auxTr = cr_soil / (de_drain**2)"
   ]
  },
  {
   "cell_type": "markdown",
   "metadata": {},
   "source": [
    "Define the auxiliary factor Fm to be used in the calculation of Ur, neglecting smearing effect (i.e. Ns = 1)"
   ]
  },
  {
   "cell_type": "code",
   "execution_count": 10,
   "metadata": {},
   "outputs": [
    {
     "name": "stdout",
     "output_type": "stream",
     "text": [
      "Factor Fm = 2.27\n"
     ]
    }
   ],
   "source": [
    "temporary = pi * z_soil * (2*hdr_soil - z_soil) * kr_soil / Qc_drain\n",
    "auxFm     = np.log(Nd_drain) - 0.75 + temporary\n",
    "\n",
    "print(f'Factor Fm = {auxFm:.2f}')"
   ]
  },
  {
   "cell_type": "markdown",
   "metadata": {},
   "source": [
    "### 1.6 Functions"
   ]
  },
  {
   "cell_type": "markdown",
   "metadata": {},
   "source": [
    "Define a function to calculate the degree of consolidation due to vertical flow"
   ]
  },
  {
   "cell_type": "code",
   "execution_count": 11,
   "metadata": {},
   "outputs": [],
   "source": [
    "def calc_Uv(tau):\n",
    "    Tv = auxTv * tau\n",
    "    if Tv <= 0.217: return 2.0 * np.sqrt(Tv / np.pi)\n",
    "    return 1.0 - 10.0**(-(Tv + 0.085)/0.933)"
   ]
  },
  {
   "cell_type": "markdown",
   "metadata": {},
   "source": [
    "Define a function to calculate the degree of consolidation due to radial flow"
   ]
  },
  {
   "cell_type": "code",
   "execution_count": 12,
   "metadata": {},
   "outputs": [],
   "source": [
    "def calc_Ur(tau):\n",
    "    Tr = auxTr * tau\n",
    "    return 1.0 - np.exp(-8.0*Tr/auxFm)"
   ]
  },
  {
   "cell_type": "markdown",
   "metadata": {},
   "source": [
    "Define a function to calculate the overall degree of consolidation"
   ]
  },
  {
   "cell_type": "code",
   "execution_count": 13,
   "metadata": {},
   "outputs": [],
   "source": [
    "def calc_Uvr(Uv, Ur):\n",
    "    return 1.0 - (1.0 - Uv) * (1.0 - Ur)"
   ]
  },
  {
   "cell_type": "markdown",
   "metadata": {},
   "source": [
    "Define a function to solve the nonlinear (root-finding) problem"
   ]
  },
  {
   "cell_type": "code",
   "execution_count": 14,
   "metadata": {},
   "outputs": [],
   "source": [
    "def resid_(tau):\n",
    "    Uvr_fixed = 0.8\n",
    "    Uv = calc_Uv(tau)\n",
    "    Ur = calc_Ur(tau)\n",
    "    return Uvr_fixed - 1.0 + (1.0-Uv) * (1.0-Ur)\n",
    "resid = np.vectorize(resid_)"
   ]
  },
  {
   "cell_type": "markdown",
   "metadata": {},
   "source": [
    "## 2 Maximum fill height"
   ]
  },
  {
   "cell_type": "markdown",
   "metadata": {},
   "source": [
    "Compute the allowed pressure based on the foundation undrained strength"
   ]
  },
  {
   "cell_type": "code",
   "execution_count": 15,
   "metadata": {},
   "outputs": [
    {
     "name": "stdout",
     "output_type": "stream",
     "text": [
      "allowed pressure = 94.89 kPa\n"
     ]
    }
   ],
   "source": [
    "p_allowed = 5.14 * cu_soil / FS_bearing_cap\n",
    "\n",
    "print(f'allowed pressure = {p_allowed:.2f} kPa')"
   ]
  },
  {
   "cell_type": "markdown",
   "metadata": {},
   "source": [
    "Compute the maximum allowed height of fill"
   ]
  },
  {
   "cell_type": "code",
   "execution_count": 16,
   "metadata": {},
   "outputs": [
    {
     "name": "stdout",
     "output_type": "stream",
     "text": [
      "maximum height of fill = 4.82 m\n"
     ]
    }
   ],
   "source": [
    "H_max = p_allowed / gamma_fill\n",
    "\n",
    "print(f'maximum height of fill = {H_max:.2f} m')"
   ]
  },
  {
   "cell_type": "markdown",
   "metadata": {},
   "source": [
    "Round down maximum fill height"
   ]
  },
  {
   "cell_type": "code",
   "execution_count": 17,
   "metadata": {},
   "outputs": [],
   "source": [
    "H_max = 4.5  # m"
   ]
  },
  {
   "cell_type": "markdown",
   "metadata": {},
   "source": [
    "## 3 Total primary settlement"
   ]
  },
  {
   "cell_type": "markdown",
   "metadata": {},
   "source": [
    "Compute the total stress increment"
   ]
  },
  {
   "cell_type": "code",
   "execution_count": 18,
   "metadata": {},
   "outputs": [
    {
     "name": "stdout",
     "output_type": "stream",
     "text": [
      "incremental vertical stress = 88.65 kPa\n"
     ]
    }
   ],
   "source": [
    "dsigz = gamma_fill * H_max\n",
    "\n",
    "print(f'incremental vertical stress = {dsigz:.2f} kPa')"
   ]
  },
  {
   "cell_type": "markdown",
   "metadata": {},
   "source": [
    "Compute the initial and final effective stresses at the mid-depth of the soft soil.\n",
    "\n",
    "Note that $\\Delta\\sigma'_z(t=\\infty) = \\Delta\\sigma_z(t=\\infty)$ at the end of consolidation because the excess pore water is completely dissipated by then."
   ]
  },
  {
   "cell_type": "code",
   "execution_count": 19,
   "metadata": {},
   "outputs": [
    {
     "name": "stdout",
     "output_type": "stream",
     "text": [
      "effective vertical stress at the beginning = 24.90 kPa\n",
      "effective vertical stress at the end       = 113.55 kPa\n"
     ]
    }
   ],
   "source": [
    "desigz    = dsigz  # delta effective vertical stress\n",
    "esigz_ini = egamma_soil * z_soil\n",
    "esigz_fin = esigz_ini + desigz\n",
    "\n",
    "print(f'effective vertical stress at the beginning = {esigz_ini:.2f} kPa')\n",
    "print(f'effective vertical stress at the end       = {esigz_fin:.2f} kPa')"
   ]
  },
  {
   "cell_type": "markdown",
   "metadata": {},
   "source": [
    "Compute the total primary settlement"
   ]
  },
  {
   "cell_type": "code",
   "execution_count": 20,
   "metadata": {},
   "outputs": [
    {
     "name": "stdout",
     "output_type": "stream",
     "text": [
      "total primary settlement = 1.58 m\n"
     ]
    }
   ],
   "source": [
    "S_total = H_soil * Cc_soil * np.log10(esigz_fin / esigz_ini) / (1.0 + e0_soil)\n",
    "\n",
    "print(f'total primary settlement = {S_total:.2f} m')"
   ]
  },
  {
   "cell_type": "markdown",
   "metadata": {},
   "source": [
    "## 4 First stage"
   ]
  },
  {
   "cell_type": "markdown",
   "metadata": {},
   "source": [
    "### 4.1 Height of the fill (Stage 1)"
   ]
  },
  {
   "cell_type": "markdown",
   "metadata": {},
   "source": [
    "Choose height of the fill for first stage"
   ]
  },
  {
   "cell_type": "code",
   "execution_count": 21,
   "metadata": {},
   "outputs": [],
   "source": [
    "H1 = 4.5  # m"
   ]
  },
  {
   "cell_type": "markdown",
   "metadata": {},
   "source": [
    "### 4.2 Construction time (Stage 1)"
   ]
  },
  {
   "cell_type": "markdown",
   "metadata": {},
   "source": [
    "Compute the time period for the construction of the first stage. Round-up the number of days."
   ]
  },
  {
   "cell_type": "code",
   "execution_count": 22,
   "metadata": {},
   "outputs": [
    {
     "name": "stdout",
     "output_type": "stream",
     "text": [
      "construction time for the first stage = 105.0 days\n"
     ]
    }
   ],
   "source": [
    "period1 = np.ceil(H1 / construct_rate)  # day\n",
    "\n",
    "print(f'construction time for the first stage = {period1} days')"
   ]
  },
  {
   "cell_type": "markdown",
   "metadata": {},
   "source": [
    "Compute the time at the beginning and at the end of construction, and the shift-time for Stage 1"
   ]
  },
  {
   "cell_type": "code",
   "execution_count": 23,
   "metadata": {},
   "outputs": [
    {
     "name": "stdout",
     "output_type": "stream",
     "text": [
      "time at beginning of construction of stage 1 = 0.0 days\n",
      "time at the end of construction of stage 1   = 105.0 days\n"
     ]
    }
   ],
   "source": [
    "t1ini      = 0.0\n",
    "t1fin      = t1ini + period1 * secs_per_day\n",
    "dt1        = (t1ini + t1fin) / 2.0\n",
    "tau1_t1fin = t1fin - dt1\n",
    "\n",
    "print(f'time at beginning of construction of stage 1 = {t1ini/secs_per_day} days')\n",
    "print(f'time at the end of construction of stage 1   = {t1fin/secs_per_day} days')"
   ]
  },
  {
   "cell_type": "markdown",
   "metadata": {},
   "source": [
    "### 4.3 Consolidation settlement (Stage 1)"
   ]
  },
  {
   "cell_type": "markdown",
   "metadata": {},
   "source": [
    "#### 4.3.1 End of construction (Stage 1)"
   ]
  },
  {
   "cell_type": "markdown",
   "metadata": {},
   "source": [
    "Compute the degrees of consolidation due to Stage 1 at the end of construction of Stage 1"
   ]
  },
  {
   "cell_type": "code",
   "execution_count": 24,
   "metadata": {},
   "outputs": [
    {
     "name": "stdout",
     "output_type": "stream",
     "text": [
      "Uv  of stage 1 @ t1fin = 5.37 %\n",
      "Ur  of stage 1 @ t1fin = 47.35 %\n",
      "Uvr of stage 1 @ t1fin = 50.18 %\n"
     ]
    }
   ],
   "source": [
    "Uv1_t1fin  = calc_Uv(tau1_t1fin)\n",
    "Ur1_t1fin  = calc_Ur(tau1_t1fin)\n",
    "Uvr1_t1fin = calc_Uvr(Uv1_t1fin, Ur1_t1fin)\n",
    "\n",
    "print(f'Uv  of stage 1 @ t1fin = {Uv1_t1fin*100:.2f} %')\n",
    "print(f'Ur  of stage 1 @ t1fin = {Ur1_t1fin*100:.2f} %')\n",
    "print(f'Uvr of stage 1 @ t1fin = {Uvr1_t1fin*100:.2f} %')"
   ]
  },
  {
   "cell_type": "markdown",
   "metadata": {},
   "source": [
    "Compute the excess pore water pressure due to Stage 1 at the end of construction of Stage 1"
   ]
  },
  {
   "cell_type": "code",
   "execution_count": 25,
   "metadata": {},
   "outputs": [
    {
     "name": "stdout",
     "output_type": "stream",
     "text": [
      "initial excess pore water pressure due to stage 1 = 88.65 kPa\n",
      "excess pore water pressure due to stage 1 @ t1fin = 44.16 kPa\n"
     ]
    }
   ],
   "source": [
    "u1_ini   = H1 * gamma_fill\n",
    "u1_t1fin = u1_ini * (1.0 - Uvr1_t1fin)\n",
    "\n",
    "print(f'initial excess pore water pressure due to stage 1 = {u1_ini:.2f} kPa')\n",
    "print(f'excess pore water pressure due to stage 1 @ t1fin = {u1_t1fin:.2f} kPa')"
   ]
  },
  {
   "cell_type": "markdown",
   "metadata": {},
   "source": [
    "Compute the consolidation settlement at the end of construction of Stage 1"
   ]
  },
  {
   "cell_type": "code",
   "execution_count": 26,
   "metadata": {},
   "outputs": [
    {
     "name": "stdout",
     "output_type": "stream",
     "text": [
      "settlement due to stage 1 @ t1fin = 0.79 m\n"
     ]
    }
   ],
   "source": [
    "S_t1fin = Uvr1_t1fin * S_total\n",
    "\n",
    "print(f'settlement due to stage 1 @ t1fin = {S_t1fin:.2f} m')"
   ]
  },
  {
   "cell_type": "markdown",
   "metadata": {},
   "source": [
    "#### 4.3.2 End of wait period (Stage 1)"
   ]
  },
  {
   "cell_type": "markdown",
   "metadata": {},
   "source": [
    "Find $\\tau$ such that at the end of the wait period, 80% consolidation (Uvr = 0.8) has occurred."
   ]
  },
  {
   "cell_type": "code",
   "execution_count": 27,
   "metadata": {},
   "outputs": [],
   "source": [
    "tau1_tlong  = tau1_t1fin + 365 * secs_per_day\n",
    "tau1_t1wait = opt.brentq(resid, tau1_t1fin, tau1_tlong)"
   ]
  },
  {
   "cell_type": "markdown",
   "metadata": {},
   "source": [
    "Compute the end of the wait period for 80% consolidation from the time-shift. Round-up the number of days."
   ]
  },
  {
   "cell_type": "code",
   "execution_count": 28,
   "metadata": {},
   "outputs": [
    {
     "name": "stdout",
     "output_type": "stream",
     "text": [
      "time at the end of the wait period of stage 1 = 178.0 days\n"
     ]
    }
   ],
   "source": [
    "t1wait      = tau1_t1wait + dt1\n",
    "t1wait_days = np.ceil(t1wait/secs_per_day)\n",
    "t1wait      = t1wait_days * secs_per_day\n",
    "\n",
    "print(f'time at the end of the wait period of stage 1 = {t1wait_days} days')"
   ]
  },
  {
   "cell_type": "markdown",
   "metadata": {},
   "source": [
    "Check if the overall degree of consolidation at the end of the wait time is close to 80%"
   ]
  },
  {
   "cell_type": "code",
   "execution_count": 29,
   "metadata": {},
   "outputs": [
    {
     "name": "stdout",
     "output_type": "stream",
     "text": [
      "Uv  of stage 1 @ t1_wait =   8.31 %\n",
      "Ur  of stage 1 @ t1_wait =  78.43 %\n",
      "Uvr of stage 1 @ t1_wait =  80.22 %\n"
     ]
    }
   ],
   "source": [
    "tau1_t1wait = t1wait - dt1\n",
    "Uv1_t1wait  = calc_Uv(tau1_t1wait)\n",
    "Ur1_t1wait  = calc_Ur(tau1_t1wait)\n",
    "Uvr1_t1wait = calc_Uvr(Uv1_t1wait, Ur1_t1wait)\n",
    "\n",
    "print(f'Uv  of stage 1 @ t1_wait = {Uv1_t1wait*100:6.2f} %')\n",
    "print(f'Ur  of stage 1 @ t1_wait = {Ur1_t1wait*100:6.2f} %')\n",
    "print(f'Uvr of stage 1 @ t1_wait = {Uvr1_t1wait*100:6.2f} %')"
   ]
  },
  {
   "cell_type": "markdown",
   "metadata": {},
   "source": [
    "Compute the excess pore-water pressure at the end of the wait time of Stage 1"
   ]
  },
  {
   "cell_type": "code",
   "execution_count": 30,
   "metadata": {},
   "outputs": [
    {
     "name": "stdout",
     "output_type": "stream",
     "text": [
      "excess pore water pressure due to stage 1 @ t1wait = 17.54 kPa\n"
     ]
    }
   ],
   "source": [
    "u1_t1wait = u1_ini * (1.0 - Uvr1_t1wait)\n",
    "\n",
    "print(f'excess pore water pressure due to stage 1 @ t1wait = {u1_t1wait:.2f} kPa')"
   ]
  },
  {
   "cell_type": "markdown",
   "metadata": {},
   "source": [
    "Compute the consolidation settlement at the end of the wait time of Stage 1"
   ]
  },
  {
   "cell_type": "code",
   "execution_count": 31,
   "metadata": {},
   "outputs": [
    {
     "name": "stdout",
     "output_type": "stream",
     "text": [
      "settlement due to stage 1 @ t1wait = 1.27 m\n"
     ]
    }
   ],
   "source": [
    "S_t1wait = Uvr1_t1wait * S_total\n",
    "\n",
    "print(f'settlement due to stage 1 @ t1wait = {S_t1wait:.2f} m')"
   ]
  },
  {
   "cell_type": "markdown",
   "metadata": {},
   "source": [
    "### 4.4 Strength gain (Stage 1)"
   ]
  },
  {
   "cell_type": "markdown",
   "metadata": {},
   "source": [
    "Compute the strength gain due to consolidation at the end of the wait time of Stage 1"
   ]
  },
  {
   "cell_type": "code",
   "execution_count": 32,
   "metadata": {},
   "outputs": [
    {
     "name": "stdout",
     "output_type": "stream",
     "text": [
      "strength gain due to stage 1 @ t1_wait = 17.78 kPa\n"
     ]
    }
   ],
   "source": [
    "dcu1 = 0.25 * Uvr1_t1wait * dsigz\n",
    "\n",
    "print(f'strength gain due to stage 1 @ t1_wait = {dcu1:.2f} kPa')"
   ]
  },
  {
   "cell_type": "markdown",
   "metadata": {},
   "source": [
    "## 5 Revised maximum fill height"
   ]
  },
  {
   "cell_type": "markdown",
   "metadata": {},
   "source": [
    "Compute the allowed pressure based on the _updated_ foundation undrained strength"
   ]
  },
  {
   "cell_type": "code",
   "execution_count": 33,
   "metadata": {},
   "outputs": [
    {
     "name": "stdout",
     "output_type": "stream",
     "text": [
      "allowed pressure = 165.19 kPa\n"
     ]
    }
   ],
   "source": [
    "p_allowed = 5.14 * (cu_soil + dcu1) / FS_bearing_cap\n",
    "\n",
    "print(f'allowed pressure = {p_allowed:.2f} kPa')"
   ]
  },
  {
   "cell_type": "markdown",
   "metadata": {},
   "source": [
    "Compute the maximum allowed height of fill"
   ]
  },
  {
   "cell_type": "code",
   "execution_count": 34,
   "metadata": {},
   "outputs": [
    {
     "name": "stdout",
     "output_type": "stream",
     "text": [
      "maximum height of fill = 8.39 m\n"
     ]
    }
   ],
   "source": [
    "H_max = p_allowed / gamma_fill\n",
    "\n",
    "print(f'maximum height of fill = {H_max:.2f} m')"
   ]
  },
  {
   "cell_type": "markdown",
   "metadata": {},
   "source": [
    "Round down maximum fill height"
   ]
  },
  {
   "cell_type": "code",
   "execution_count": 35,
   "metadata": {},
   "outputs": [],
   "source": [
    "H_max = 8.0  # m"
   ]
  },
  {
   "cell_type": "markdown",
   "metadata": {},
   "source": [
    "## 6 Revised total primary settlement"
   ]
  },
  {
   "cell_type": "markdown",
   "metadata": {},
   "source": [
    "Compute the total stress increment"
   ]
  },
  {
   "cell_type": "code",
   "execution_count": 36,
   "metadata": {},
   "outputs": [
    {
     "name": "stdout",
     "output_type": "stream",
     "text": [
      "incremental vertical stress = 157.60 kPa\n"
     ]
    }
   ],
   "source": [
    "dsigz = gamma_fill * H_max\n",
    "\n",
    "print(f'incremental vertical stress = {dsigz:.2f} kPa')"
   ]
  },
  {
   "cell_type": "markdown",
   "metadata": {},
   "source": [
    "Compute the initial and final effective stresses at the mid-depth of the soft soil."
   ]
  },
  {
   "cell_type": "code",
   "execution_count": 37,
   "metadata": {},
   "outputs": [
    {
     "name": "stdout",
     "output_type": "stream",
     "text": [
      "effective vertical stress at the beginning = 24.90 kPa\n",
      "effective vertical stress at the end       = 182.50 kPa\n"
     ]
    }
   ],
   "source": [
    "desigz    = dsigz  # delta effective vertical stress\n",
    "esigz_ini = egamma_soil * z_soil\n",
    "esigz_fin = esigz_ini + desigz\n",
    "\n",
    "print(f'effective vertical stress at the beginning = {esigz_ini:.2f} kPa')\n",
    "print(f'effective vertical stress at the end       = {esigz_fin:.2f} kPa')"
   ]
  },
  {
   "cell_type": "markdown",
   "metadata": {},
   "source": [
    "Compute the total primary settlement"
   ]
  },
  {
   "cell_type": "code",
   "execution_count": 38,
   "metadata": {},
   "outputs": [
    {
     "name": "stdout",
     "output_type": "stream",
     "text": [
      "total primary settlement = 2.08 m\n"
     ]
    }
   ],
   "source": [
    "S_total = H_soil * Cc_soil * np.log10(esigz_fin / esigz_ini) / (1.0 + e0_soil)\n",
    "\n",
    "print(f'total primary settlement = {S_total:.2f} m')"
   ]
  },
  {
   "cell_type": "markdown",
   "metadata": {},
   "source": [
    "## 7 Second stage"
   ]
  },
  {
   "cell_type": "markdown",
   "metadata": {},
   "source": [
    "### 7.1 Height of the fill (Stage 2)"
   ]
  },
  {
   "cell_type": "markdown",
   "metadata": {},
   "source": [
    "Choose the height of the fill for second stage. "
   ]
  },
  {
   "cell_type": "code",
   "execution_count": 39,
   "metadata": {},
   "outputs": [
    {
     "name": "stdout",
     "output_type": "stream",
     "text": [
      "H2 = 3.5 m\n"
     ]
    }
   ],
   "source": [
    "H2 = H_max - H1\n",
    "\n",
    "print(f'H2 = {H2} m')"
   ]
  },
  {
   "cell_type": "markdown",
   "metadata": {},
   "source": [
    "### 7.2 Construction time (Stage 2)"
   ]
  },
  {
   "cell_type": "markdown",
   "metadata": {},
   "source": [
    "Compute the time period for the construction of the second stage. Round-up the number of days."
   ]
  },
  {
   "cell_type": "code",
   "execution_count": 40,
   "metadata": {},
   "outputs": [
    {
     "name": "stdout",
     "output_type": "stream",
     "text": [
      "construction time for the second stage = 82.0 days\n"
     ]
    }
   ],
   "source": [
    "period2 = np.ceil(H2 / construct_rate)  # day\n",
    "\n",
    "print(f'construction time for the second stage = {period2} days')"
   ]
  },
  {
   "cell_type": "markdown",
   "metadata": {},
   "source": [
    "Compute the time at the beginning and at the end of construction, and the shift-time for Stage 2"
   ]
  },
  {
   "cell_type": "code",
   "execution_count": 41,
   "metadata": {},
   "outputs": [
    {
     "name": "stdout",
     "output_type": "stream",
     "text": [
      "time at beginning of construction of stage 2 = 178.0 days\n",
      "time at the end of construction of stage 2   = 260.0 days\n"
     ]
    }
   ],
   "source": [
    "t2ini      = t1wait\n",
    "t2fin      = t2ini + period2 * secs_per_day\n",
    "dt2        = (t2ini + t2fin) / 2.0\n",
    "tau2_t2fin = t2fin - dt2\n",
    "\n",
    "print(f'time at beginning of construction of stage 2 = {t2ini/secs_per_day} days')\n",
    "print(f'time at the end of construction of stage 2   = {t2fin/secs_per_day} days')"
   ]
  },
  {
   "cell_type": "markdown",
   "metadata": {},
   "source": [
    "### 7.3 Consolidation settlement (Stage 2)"
   ]
  },
  {
   "cell_type": "markdown",
   "metadata": {},
   "source": [
    "#### 7.3.1 End of construction (Stage 2)"
   ]
  },
  {
   "cell_type": "markdown",
   "metadata": {},
   "source": [
    "Compute the degrees of consolidation due to Stage 1 at the end of construction of Stage 2"
   ]
  },
  {
   "cell_type": "code",
   "execution_count": 42,
   "metadata": {},
   "outputs": [
    {
     "name": "stdout",
     "output_type": "stream",
     "text": [
      "Uv  of stage 1 @ t2fin = 10.68 %\n",
      "Ur  of stage 1 @ t2fin = 92.08 %\n",
      "Uvr of stage 1 @ t2fin = 92.93 %\n"
     ]
    }
   ],
   "source": [
    "tau1_t2fin = t2fin - dt1\n",
    "Uv1_t2fin  = calc_Uv(tau1_t2fin)\n",
    "Ur1_t2fin  = calc_Ur(tau1_t2fin)\n",
    "Uvr1_t2fin = calc_Uvr(Uv1_t2fin, Ur1_t2fin)\n",
    "\n",
    "print(f'Uv  of stage 1 @ t2fin = {Uv1_t2fin*100:.2f} %')\n",
    "print(f'Ur  of stage 1 @ t2fin = {Ur1_t2fin*100:.2f} %')\n",
    "print(f'Uvr of stage 1 @ t2fin = {Uvr1_t2fin*100:.2f} %')"
   ]
  },
  {
   "cell_type": "markdown",
   "metadata": {},
   "source": [
    "Compute the degrees of consolidation due to Stage 2 at the end of construction of Stage 2"
   ]
  },
  {
   "cell_type": "code",
   "execution_count": 43,
   "metadata": {},
   "outputs": [
    {
     "name": "stdout",
     "output_type": "stream",
     "text": [
      "Uv  of stage 2 @ t2fin = 4.75 %\n",
      "Ur  of stage 2 @ t2fin = 39.41 %\n",
      "Uvr of stage 2 @ t2fin = 42.29 %\n"
     ]
    }
   ],
   "source": [
    "Uv2_t2fin  = calc_Uv(tau2_t2fin)\n",
    "Ur2_t2fin  = calc_Ur(tau2_t2fin)\n",
    "Uvr2_t2fin = calc_Uvr(Uv2_t2fin, Ur2_t2fin)\n",
    "\n",
    "print(f'Uv  of stage 2 @ t2fin = {Uv2_t2fin*100:.2f} %')\n",
    "print(f'Ur  of stage 2 @ t2fin = {Ur2_t2fin*100:.2f} %')\n",
    "print(f'Uvr of stage 2 @ t2fin = {Uvr2_t2fin*100:.2f} %')"
   ]
  },
  {
   "cell_type": "markdown",
   "metadata": {},
   "source": [
    "Compute the excess pore water pressure due to Stage 1 at the end of construction of Stage 2"
   ]
  },
  {
   "cell_type": "code",
   "execution_count": 44,
   "metadata": {},
   "outputs": [
    {
     "name": "stdout",
     "output_type": "stream",
     "text": [
      "excess pore water pressure due to stage 1 @ t2fin = 6.27 kPa\n"
     ]
    }
   ],
   "source": [
    "u1_t2fin = u1_ini * (1.0 - Uvr1_t2fin)\n",
    "\n",
    "print(f'excess pore water pressure due to stage 1 @ t2fin = {u1_t2fin:.2f} kPa')"
   ]
  },
  {
   "cell_type": "markdown",
   "metadata": {},
   "source": [
    "Compute the excess pore water pressure due Stage 2 at the end of construction of Stage 2"
   ]
  },
  {
   "cell_type": "code",
   "execution_count": 45,
   "metadata": {},
   "outputs": [
    {
     "name": "stdout",
     "output_type": "stream",
     "text": [
      "initial excess pore water pressure due to stage 2 = 68.95 kPa\n",
      "excess pore water pressure due to stage 2 @ t2fin = 39.79 kPa\n"
     ]
    }
   ],
   "source": [
    "u2_ini   = H2 * gamma_fill\n",
    "u2_t2fin = u2_ini * (1.0 - Uvr2_t2fin)\n",
    "\n",
    "print(f'initial excess pore water pressure due to stage 2 = {u2_ini:.2f} kPa')\n",
    "print(f'excess pore water pressure due to stage 2 @ t2fin = {u2_t2fin:.2f} kPa')"
   ]
  },
  {
   "cell_type": "markdown",
   "metadata": {},
   "source": [
    "Compute the overall degree of consolidation due to Stage 1 and Stage 2"
   ]
  },
  {
   "cell_type": "code",
   "execution_count": 46,
   "metadata": {},
   "outputs": [
    {
     "name": "stdout",
     "output_type": "stream",
     "text": [
      "sum of initial excess pore water pressure     = 157.60 kPa\n",
      "sum of excess pore water pressure @ t2fin     = 46.06 kPa\n",
      "total overall degree of consolidation @ t2fin = 70.77 %\n"
     ]
    }
   ],
   "source": [
    "sum_uini   = u1_ini + u2_ini\n",
    "sum_ut2fin = u1_t2fin + u2_t2fin\n",
    "Uvr_t2fin  = 1.0 - sum_ut2fin / sum_uini\n",
    "\n",
    "print(f'sum of initial excess pore water pressure     = {sum_uini:.2f} kPa')\n",
    "print(f'sum of excess pore water pressure @ t2fin     = {sum_ut2fin:.2f} kPa')\n",
    "print(f'total overall degree of consolidation @ t2fin = {Uvr_t2fin*100:.2f} %')"
   ]
  },
  {
   "cell_type": "markdown",
   "metadata": {},
   "source": [
    "Compute the consolidation settlement at the end of construction of Stage 2"
   ]
  },
  {
   "cell_type": "code",
   "execution_count": 47,
   "metadata": {},
   "outputs": [
    {
     "name": "stdout",
     "output_type": "stream",
     "text": [
      "settlement due to stage 1 and stage 2 @ t2fin = 1.47 m\n"
     ]
    }
   ],
   "source": [
    "S_t2fin = Uvr_t2fin * S_total\n",
    "\n",
    "print(f'settlement due to stage 1 and stage 2 @ t2fin = {S_t2fin:.2f} m')"
   ]
  },
  {
   "cell_type": "markdown",
   "metadata": {},
   "source": [
    "#### 7.3.2 End of wait period (Stage 2)"
   ]
  },
  {
   "cell_type": "markdown",
   "metadata": {},
   "source": [
    "Set time at the end of the wait period of Stage 2 as the final allowed time (1 year). Compute $\\tau$ at the final time."
   ]
  },
  {
   "cell_type": "code",
   "execution_count": 48,
   "metadata": {},
   "outputs": [],
   "source": [
    "t2wait      = 365 * secs_per_day\n",
    "tau2_t2wait = t2wait - dt2"
   ]
  },
  {
   "cell_type": "markdown",
   "metadata": {},
   "source": [
    "Compute the degrees of consolidation due to Stage 1 at the end of wait time of Stage 2"
   ]
  },
  {
   "cell_type": "code",
   "execution_count": 49,
   "metadata": {},
   "outputs": [
    {
     "name": "stdout",
     "output_type": "stream",
     "text": [
      "Uv  of stage 1 @ t2wait = 13.11 %\n",
      "Ur  of stage 1 @ t2wait = 97.81 %\n",
      "Uvr of stage 1 @ t2wait = 98.09 %\n"
     ]
    }
   ],
   "source": [
    "tau1_t2wait = t2wait - dt1\n",
    "Uv1_t2wait  = calc_Uv(tau1_t2wait)\n",
    "Ur1_t2wait  = calc_Ur(tau1_t2wait)\n",
    "Uvr1_t2wait = calc_Uvr(Uv1_t2wait, Ur1_t2wait)\n",
    "\n",
    "print(f'Uv  of stage 1 @ t2wait = {Uv1_t2wait*100:.2f} %')\n",
    "print(f'Ur  of stage 1 @ t2wait = {Ur1_t2wait*100:.2f} %')\n",
    "print(f'Uvr of stage 1 @ t2wait = {Uvr1_t2wait*100:.2f} %')"
   ]
  },
  {
   "cell_type": "markdown",
   "metadata": {},
   "source": [
    "Compute the degrees of consolidation due to Stage 2 at the end of wait time of Stage 2"
   ]
  },
  {
   "cell_type": "code",
   "execution_count": 50,
   "metadata": {},
   "outputs": [
    {
     "name": "stdout",
     "output_type": "stream",
     "text": [
      "Uv  of stage 2 @ t2wait = 8.96 %\n",
      "Ur  of stage 2 @ t2wait = 83.21 %\n",
      "Uvr of stage 2 @ t2wait = 84.71 %\n"
     ]
    }
   ],
   "source": [
    "Uv2_t2wait  = calc_Uv(tau2_t2wait)\n",
    "Ur2_t2wait  = calc_Ur(tau2_t2wait)\n",
    "Uvr2_t2wait = calc_Uvr(Uv2_t2wait, Ur2_t2wait)\n",
    "\n",
    "print(f'Uv  of stage 2 @ t2wait = {Uv2_t2wait*100:.2f} %')\n",
    "print(f'Ur  of stage 2 @ t2wait = {Ur2_t2wait*100:.2f} %')\n",
    "print(f'Uvr of stage 2 @ t2wait = {Uvr2_t2wait*100:.2f} %')"
   ]
  },
  {
   "cell_type": "markdown",
   "metadata": {},
   "source": [
    "Compute the excess pore water pressure due to Stage 1 at the end of wait time of Stage 2"
   ]
  },
  {
   "cell_type": "code",
   "execution_count": 51,
   "metadata": {},
   "outputs": [
    {
     "name": "stdout",
     "output_type": "stream",
     "text": [
      "excess pore water pressure due to stage 1 @ t2wait = 1.69 kPa\n"
     ]
    }
   ],
   "source": [
    "u1_t2wait = u1_ini * (1.0 - Uvr1_t2wait)\n",
    "\n",
    "print(f'excess pore water pressure due to stage 1 @ t2wait = {u1_t2wait:.2f} kPa')"
   ]
  },
  {
   "cell_type": "markdown",
   "metadata": {},
   "source": [
    "Compute the excess pore-water pressure due Stage 2 at the end of wait time of Stage 2"
   ]
  },
  {
   "cell_type": "code",
   "execution_count": 52,
   "metadata": {},
   "outputs": [
    {
     "name": "stdout",
     "output_type": "stream",
     "text": [
      "excess pore water pressure due to stage 2 @ t2wait = 10.54 kPa\n"
     ]
    }
   ],
   "source": [
    "u2_t2wait = u2_ini * (1.0 - Uvr2_t2wait)\n",
    "\n",
    "print(f'excess pore water pressure due to stage 2 @ t2wait = {u2_t2wait:.2f} kPa')"
   ]
  },
  {
   "cell_type": "markdown",
   "metadata": {},
   "source": [
    "Compute the overall degree of consolidation due to Stage 1 and Stage 2"
   ]
  },
  {
   "cell_type": "code",
   "execution_count": 53,
   "metadata": {},
   "outputs": [
    {
     "name": "stdout",
     "output_type": "stream",
     "text": [
      "sum of excess pore water pressure @ t2wait     = 12.23 kPa\n",
      "total overall degree of consolidation @ t2wait = 92.24 %\n"
     ]
    }
   ],
   "source": [
    "sum_ut2wait = u1_t2wait + u2_t2wait\n",
    "Uvr_t2wait  = 1.0 - sum_ut2wait / sum_uini\n",
    "\n",
    "print(f'sum of excess pore water pressure @ t2wait     = {sum_ut2wait:.2f} kPa')\n",
    "print(f'total overall degree of consolidation @ t2wait = {Uvr_t2wait*100:.2f} %')"
   ]
  },
  {
   "cell_type": "markdown",
   "metadata": {},
   "source": [
    "Compute the consolidation settlement at the end of the wait time of Stage 2"
   ]
  },
  {
   "cell_type": "code",
   "execution_count": 54,
   "metadata": {},
   "outputs": [
    {
     "name": "stdout",
     "output_type": "stream",
     "text": [
      "settlement due to stage 1 and stage 2 @ t2wait = 1.92 m\n"
     ]
    }
   ],
   "source": [
    "S_t2wait = Uvr_t2wait * S_total\n",
    "\n",
    "print(f'settlement due to stage 1 and stage 2 @ t2wait = {S_t2wait:.2f} m')"
   ]
  },
  {
   "cell_type": "markdown",
   "metadata": {},
   "source": [
    "# 8 Post-construction settlement"
   ]
  },
  {
   "cell_type": "markdown",
   "metadata": {},
   "source": [
    "Compute the remaining settlement"
   ]
  },
  {
   "cell_type": "code",
   "execution_count": 55,
   "metadata": {},
   "outputs": [
    {
     "name": "stdout",
     "output_type": "stream",
     "text": [
      "remaining settlement = 0.16 m\n"
     ]
    }
   ],
   "source": [
    "S_rem = S_total - S_t2wait\n",
    "\n",
    "print(f'remaining settlement = {S_rem:.2f} m')"
   ]
  },
  {
   "cell_type": "markdown",
   "metadata": {},
   "source": [
    "Find t corresponding to 99% consolidation (Uvr = 0.99)."
   ]
  },
  {
   "cell_type": "code",
   "execution_count": 56,
   "metadata": {},
   "outputs": [
    {
     "name": "stdout",
     "output_type": "stream",
     "text": [
      "time for 99% consolidation = 365 days\n"
     ]
    }
   ],
   "source": [
    "def res99(t):\n",
    "    Uvr_fixed = 0.99\n",
    "    Uv = calc_Uv(t)\n",
    "    Ur = calc_Ur(t)\n",
    "    return Uvr_fixed - 1.0 + (1.0-Uv) * (1.0-Ur)\n",
    "\n",
    "tverylong = 10000 * secs_per_day\n",
    "t99       = opt.brentq(res99, 0, tverylong)\n",
    "t99_days  = np.ceil(t99 / secs_per_day)\n",
    "\n",
    "print(f'time for 99% consolidation = {t99_days:.0f} days')"
   ]
  },
  {
   "cell_type": "markdown",
   "metadata": {},
   "source": [
    "Compute the settlement due to traffic loading"
   ]
  },
  {
   "cell_type": "code",
   "execution_count": 57,
   "metadata": {},
   "outputs": [
    {
     "name": "stdout",
     "output_type": "stream",
     "text": [
      "settlement due to traffic = 0.07 m\n"
     ]
    }
   ],
   "source": [
    "dsig_traf  = 12.0  # kPa\n",
    "esigz_traf = esigz_ini + dsigz + dsig_traf\n",
    "S_traf     = H_soil * Cc_soil * np.log10(esigz_traf / esigz_ini) / (1.0 + e0_soil) - S_total\n",
    "\n",
    "print(f'settlement due to traffic = {S_traf:.2f} m')"
   ]
  },
  {
   "cell_type": "markdown",
   "metadata": {},
   "source": [
    "Compute the secondary settlement"
   ]
  },
  {
   "cell_type": "code",
   "execution_count": 58,
   "metadata": {},
   "outputs": [
    {
     "name": "stdout",
     "output_type": "stream",
     "text": [
      "secondary settlement after 100 years = 0.19 m\n"
     ]
    }
   ],
   "source": [
    "tend_days = 100 * 365.0  # days\n",
    "S_sec     = H_soil * Ca_soil * np.log10(tend_days / t99_days) / (1.0 + e0_soil)\n",
    "\n",
    "print(f'secondary settlement after 100 years = {S_sec:.2f} m')"
   ]
  },
  {
   "cell_type": "markdown",
   "metadata": {},
   "source": [
    "Compute the post-construction settlement"
   ]
  },
  {
   "cell_type": "code",
   "execution_count": 59,
   "metadata": {},
   "outputs": [
    {
     "name": "stdout",
     "output_type": "stream",
     "text": [
      "post-construction settlement = 0.42 m\n"
     ]
    }
   ],
   "source": [
    "S_pc = S_rem + S_traf + S_sec\n",
    "\n",
    "print(f'post-construction settlement = {S_pc:.2f} m')"
   ]
  },
  {
   "cell_type": "markdown",
   "metadata": {},
   "source": [
    "## 9 Plots"
   ]
  },
  {
   "cell_type": "markdown",
   "metadata": {},
   "source": [
    "Create data arrays"
   ]
  },
  {
   "cell_type": "code",
   "execution_count": 60,
   "metadata": {},
   "outputs": [],
   "source": [
    "T  = np.array([ t1ini,    t1fin,    t1wait,     t2fin,    t2wait]) / secs_per_day\n",
    "S  = np.array([   0.0,  S_t1fin,  S_t1wait,   S_t2fin,  S_t2wait])\n",
    "H  = np.array([   0.0,       H1,        H1,     H1+H2,     H1+H2])\n",
    "U1 = np.array([u1_ini, u1_t1fin, u1_t1wait, u1_t2fin, u1_t2wait])\n",
    "U2 = np.array([   0.0,      0.0,    u2_ini, u2_t2fin, u2_t2wait])"
   ]
  },
  {
   "cell_type": "markdown",
   "metadata": {},
   "source": [
    "Plot the fill height versus time"
   ]
  },
  {
   "cell_type": "code",
   "execution_count": 61,
   "metadata": {},
   "outputs": [
    {
     "data": {
      "image/png": "[encoded data removed]",
      "text/plain": [
       "<matplotlib.figure.Figure at 0x7fdeb9901eb8>"
      ]
     },
     "metadata": {
      "needs_background": "light"
     },
     "output_type": "display_data"
    }
   ],
   "source": [
    "plt.plot(T, H, 'b-o')\n",
    "plt.xlabel('time [days]')\n",
    "plt.ylabel('fill height [m]')\n",
    "plt.grid(linestyle='--',color='grey')"
   ]
  },
  {
   "cell_type": "markdown",
   "metadata": {},
   "source": [
    "Plot the settlement versus time"
   ]
  },
  {
   "cell_type": "code",
   "execution_count": 62,
   "metadata": {},
   "outputs": [
    {
     "data": {
      "image/png": "[encoded data removed]",
      "text/plain": [
       "<matplotlib.figure.Figure at 0x7fdeb78a87f0>"
      ]
     },
     "metadata": {
      "needs_background": "light"
     },
     "output_type": "display_data"
    }
   ],
   "source": [
    "plt.plot(T, S, 'r-o')\n",
    "plt.xlabel('time [days]')\n",
    "plt.ylabel('settlement [m]')\n",
    "plt.grid(linestyle='--',color='grey')\n",
    "plt.gca().invert_yaxis()"
   ]
  },
  {
   "cell_type": "markdown",
   "metadata": {},
   "source": [
    "Plot the excess pore water pressure due to the first embankment"
   ]
  },
  {
   "cell_type": "code",
   "execution_count": 63,
   "metadata": {},
   "outputs": [
    {
     "data": {
      "image/png": "[encoded data removed]",
      "text/plain": [
       "<matplotlib.figure.Figure at 0x7fdeb78348d0>"
      ]
     },
     "metadata": {
      "needs_background": "light"
     },
     "output_type": "display_data"
    }
   ],
   "source": [
    "plt.plot(T, U1, 'g-o')\n",
    "plt.xlabel('time [days]')\n",
    "plt.ylabel('u1 [kPa]')\n",
    "plt.grid(linestyle='--',color='grey')"
   ]
  },
  {
   "cell_type": "markdown",
   "metadata": {},
   "source": [
    "Plot the excess pore water pressure due to the second embankment"
   ]
  },
  {
   "cell_type": "code",
   "execution_count": 64,
   "metadata": {},
   "outputs": [
    {
     "data": {
      "image/png": "[encoded data removed]",
      "text/plain": [
       "<matplotlib.figure.Figure at 0x7fdeb77f2470>"
      ]
     },
     "metadata": {
      "needs_background": "light"
     },
     "output_type": "display_data"
    }
   ],
   "source": [
    "plt.plot(T, U2, 'm-o')\n",
    "plt.xlabel('time [days]')\n",
    "plt.ylabel('u2 [kPa]')\n",
    "plt.grid(linestyle='--',color='grey')"
   ]
  }
 ],
 "metadata": {
  "kernelspec": {
   "display_name": "Python 3",
   "language": "python",
   "name": "python3"
  },
  "language_info": {
   "codemirror_mode": {
    "name": "ipython",
    "version": 3
   },
   "file_extension": ".py",
   "mimetype": "text/x-python",
   "name": "python",
   "nbconvert_exporter": "python",
   "pygments_lexer": "ipython3",
   "version": "3.6.7"
  }
 },
 "nbformat": 4,
 "nbformat_minor": 2
}
